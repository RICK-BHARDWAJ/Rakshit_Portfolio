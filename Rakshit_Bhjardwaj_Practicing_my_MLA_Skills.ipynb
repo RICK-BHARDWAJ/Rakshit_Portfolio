{
  "nbformat": 4,
  "nbformat_minor": 0,
  "metadata": {
    "colab": {
      "provenance": []
    },
    "kernelspec": {
      "name": "python3",
      "display_name": "Python 3"
    },
    "language_info": {
      "name": "python"
    }
  },
  "cells": [
    {
      "cell_type": "markdown",
      "source": [
        "## Assignment Title: Credit Scoring Model Development\n",
        "\n",
        "#### Objective:\n",
        "To develop a predictive model that estimates the probability of a borrower experiencing financial distress within the next two years, using the \"Give Me Some Credit\" dataset from Kaggle.\n",
        "\n",
        "#### Background:\n",
        "Credit scoring is a critical component in the financial services industry, used to evaluate the risk of lending to a borrower. Machine Learning Analysts play a vital role in building predictive models that can assess this risk more accurately.\n",
        "\n",
        "#### Dataset:\n",
        "The dataset can be found at the following Kaggle competition link: [Give Me Some Credit](https://www.kaggle.com/c/GiveMeSomeCredit). You are required to create a Kaggle account if you do not have one to download the dataset.\n",
        "\n",
        "#### Tasks:\n",
        "\n",
        "As a  machine learning analyst, your task is to:\n",
        "\n",
        "1. **Understand the Problem Statement**: The first step is to understand what the competition is about. In this case, it is to improve on the state of the art in credit scoring, by predicting the probability that somebody will experience financial distress in the next two years.\n",
        "\n",
        "2. **Data Exploration**: Before diving into model building, the analyst would first explore the dataset to understand its features, the distribution of values, and look for any patterns or anomalies that might affect the analysis.\n",
        "\n",
        "3. **Data Cleaning**: Based on the exploration findings, the analyst would clean the data, which includes handling missing values, correcting data types, and removing duplicates or irrelevant information.\n",
        "\n",
        "4. **Feature Engineering**: The analyst might create new features from the existing data to improve the model's predictive power. For example, they might create new ratios or interaction features based on the current dataset's financial variables.\n",
        "\n",
        "5. **Pre-processing**: This involves scaling or normalizing data, encoding categorical variables, and splitting the dataset into training and test sets.\n",
        "\n",
        "6. **Model Selection**: The analyst would select appropriate machine learning algorithms for the credit scoring task. They might consider logistic regression, decision trees, random forests, gradient boosting machines, or neural networks.\n",
        "\n",
        "7. **Model Training**: The selected models would be trained on the training dataset. The analyst would use cross-validation to estimate the effectiveness of the model and prevent overfitting.\n",
        "\n",
        "8. **Hyperparameter Tuning**: The analyst would tune the models' hyperparameters to find the best combination that increases the predictive performance on the validation set.\n",
        "\n",
        "9. **Model Evaluation**: Once the models are trained and tuned, the analyst would evaluate them using appropriate performance metrics, such as the area under the ROC curve (AUC), which is often used for binary classification problems like this.\n",
        "\n",
        "10. **Model Interpretation**: The analyst would interpret the model results to understand which features are most predictive of financial distress and ensure that the model aligns with business intuition.\n",
        "\n",
        "11. **Deployment**: If the model performs well, the analyst would deploy it into a production environment where it can be used to score credit applications.\n",
        "\n",
        "12. **Documentation and Reporting**: Finally, the analyst would document the methodology, model development process, and performance results. They would also provide recommendations based on the model's findings.\n",
        "\n",
        "13. **Feedback Loop**: They might establish a feedback loop where the model's predictions are compared against actual outcomes when they become available, to continuously improve the model.\n"
      ],
      "metadata": {
        "id": "5lzC7NEbQTj8"
      }
    },
    {
      "cell_type": "markdown",
      "source": [
        " **Step 1: Understand the Problem Statement**\n",
        "\n",
        "*This project aims to develop a predictive model to estimate the probability of a borrower experiencing financial distress within the next two years.Credit scoring models help financial institutions make informed lending decisions and mitigate risk. The dataset provided by Kaggle contains various financial attributes of borrowers, and our task is to build a robust model to predict risk levels.*\n"
      ],
      "metadata": {
        "id": "lqwt6kp8td2v"
      }
    },
    {
      "cell_type": "code",
      "source": [
        "# Importing some required libraries\n",
        "!pip install xlrd\n",
        "import pandas as pd\n",
        "import numpy as np\n",
        "import matplotlib.pyplot as plt\n",
        "import seaborn as sns\n",
        "from sklearn.model_selection import train_test_split, GridSearchCV\n",
        "from sklearn.preprocessing import StandardScaler\n",
        "from sklearn.ensemble import RandomForestClassifier, GradientBoostingClassifier\n",
        "from sklearn.metrics import roc_auc_score, classification_report\n",
        "from sklearn.linear_model import LogisticRegression"
      ],
      "metadata": {
        "colab": {
          "base_uri": "https://localhost:8080/"
        },
        "id": "IRCG-Nb-8Maa",
        "outputId": "eacf2aa7-0bbb-4cf2-e4a7-5a8c19c9b9d3"
      },
      "execution_count": null,
      "outputs": [
        {
          "output_type": "stream",
          "name": "stdout",
          "text": [
            "Requirement already satisfied: xlrd in /usr/local/lib/python3.11/dist-packages (2.0.1)\n"
          ]
        }
      ]
    },
    {
      "cell_type": "markdown",
      "source": [
        "**Step 2: Data Exploration**"
      ],
      "metadata": {
        "id": "csTK4XsSt495"
      }
    },
    {
      "cell_type": "code",
      "source": [
        "# Loading the dataset and exploring important features\n",
        "df_1 = pd.read_excel('/content/Data Dictionary.xls')\n",
        "df_2 = pd.read_csv('/content/cs-training.csv')\n",
        "df_3 = pd.read_csv('/content/cs-test.csv')\n",
        "df_4 = pd.read_csv('/content/sampleEntry.csv')"
      ],
      "metadata": {
        "id": "2guQxg-G5Nll"
      },
      "execution_count": null,
      "outputs": []
    },
    {
      "cell_type": "code",
      "source": [
        "# Loading the dataset and exploring important features\n",
        "df = pd.read_csv('/content/cs-training.csv')\n",
        "print(\"Dataset Overview:\")\n",
        "print(df.head())\n",
        "print(\"\\nData Summary:\")\n",
        "print(df.info())\n",
        "print(\"\\nMissing Values:\")\n",
        "print(df.isnull().sum())\n",
        "print(\"\\nClass Distribution:\")\n",
        "print(df['SeriousDlqin2yrs'].value_counts())"
      ],
      "metadata": {
        "colab": {
          "base_uri": "https://localhost:8080/"
        },
        "collapsed": true,
        "id": "ukX-BV2QxLpt",
        "outputId": "22a3e934-6f91-4621-8065-5b9349dc26f8"
      },
      "execution_count": null,
      "outputs": [
        {
          "output_type": "stream",
          "name": "stdout",
          "text": [
            "Dataset Overview:\n",
            "   Unnamed: 0  SeriousDlqin2yrs  RevolvingUtilizationOfUnsecuredLines  age  \\\n",
            "0           1                 1                              0.766127   45   \n",
            "1           2                 0                              0.957151   40   \n",
            "2           3                 0                              0.658180   38   \n",
            "3           4                 0                              0.233810   30   \n",
            "4           5                 0                              0.907239   49   \n",
            "\n",
            "   NumberOfTime30-59DaysPastDueNotWorse  DebtRatio  MonthlyIncome  \\\n",
            "0                                     2   0.802982         9120.0   \n",
            "1                                     0   0.121876         2600.0   \n",
            "2                                     1   0.085113         3042.0   \n",
            "3                                     0   0.036050         3300.0   \n",
            "4                                     1   0.024926        63588.0   \n",
            "\n",
            "   NumberOfOpenCreditLinesAndLoans  NumberOfTimes90DaysLate  \\\n",
            "0                               13                        0   \n",
            "1                                4                        0   \n",
            "2                                2                        1   \n",
            "3                                5                        0   \n",
            "4                                7                        0   \n",
            "\n",
            "   NumberRealEstateLoansOrLines  NumberOfTime60-89DaysPastDueNotWorse  \\\n",
            "0                             6                                     0   \n",
            "1                             0                                     0   \n",
            "2                             0                                     0   \n",
            "3                             0                                     0   \n",
            "4                             1                                     0   \n",
            "\n",
            "   NumberOfDependents  \n",
            "0                 2.0  \n",
            "1                 1.0  \n",
            "2                 0.0  \n",
            "3                 0.0  \n",
            "4                 0.0  \n",
            "\n",
            "Data Summary:\n",
            "<class 'pandas.core.frame.DataFrame'>\n",
            "RangeIndex: 150000 entries, 0 to 149999\n",
            "Data columns (total 12 columns):\n",
            " #   Column                                Non-Null Count   Dtype  \n",
            "---  ------                                --------------   -----  \n",
            " 0   Unnamed: 0                            150000 non-null  int64  \n",
            " 1   SeriousDlqin2yrs                      150000 non-null  int64  \n",
            " 2   RevolvingUtilizationOfUnsecuredLines  150000 non-null  float64\n",
            " 3   age                                   150000 non-null  int64  \n",
            " 4   NumberOfTime30-59DaysPastDueNotWorse  150000 non-null  int64  \n",
            " 5   DebtRatio                             150000 non-null  float64\n",
            " 6   MonthlyIncome                         120269 non-null  float64\n",
            " 7   NumberOfOpenCreditLinesAndLoans       150000 non-null  int64  \n",
            " 8   NumberOfTimes90DaysLate               150000 non-null  int64  \n",
            " 9   NumberRealEstateLoansOrLines          150000 non-null  int64  \n",
            " 10  NumberOfTime60-89DaysPastDueNotWorse  150000 non-null  int64  \n",
            " 11  NumberOfDependents                    146076 non-null  float64\n",
            "dtypes: float64(4), int64(8)\n",
            "memory usage: 13.7 MB\n",
            "None\n",
            "\n",
            "Missing Values:\n",
            "Unnamed: 0                                  0\n",
            "SeriousDlqin2yrs                            0\n",
            "RevolvingUtilizationOfUnsecuredLines        0\n",
            "age                                         0\n",
            "NumberOfTime30-59DaysPastDueNotWorse        0\n",
            "DebtRatio                                   0\n",
            "MonthlyIncome                           29731\n",
            "NumberOfOpenCreditLinesAndLoans             0\n",
            "NumberOfTimes90DaysLate                     0\n",
            "NumberRealEstateLoansOrLines                0\n",
            "NumberOfTime60-89DaysPastDueNotWorse        0\n",
            "NumberOfDependents                       3924\n",
            "dtype: int64\n",
            "\n",
            "Class Distribution:\n",
            "SeriousDlqin2yrs\n",
            "0    139974\n",
            "1     10026\n",
            "Name: count, dtype: int64\n"
          ]
        }
      ]
    },
    {
      "cell_type": "markdown",
      "source": [
        "**Step 3: Data Cleaning**"
      ],
      "metadata": {
        "id": "lLm0Nn530ha8"
      }
    },
    {
      "cell_type": "code",
      "source": [
        "# Handle missing values (e.g., filling with median for numeric columns only)\n",
        "for column in df.select_dtypes(include=np.number).columns:\n",
        "    df[column].fillna(df[column].median(), inplace=True)\n",
        "\n",
        "# Handle missing values for non-numeric columns (e.g., filling with mode)\n",
        "for column in df.select_dtypes(exclude=np.number).columns:\n",
        "    df[column].fillna(df[column].mode()[0], inplace=True)"
      ],
      "metadata": {
        "colab": {
          "base_uri": "https://localhost:8080/"
        },
        "id": "WWpdLzFB0ZVj",
        "outputId": "49883315-1bd7-47dd-e885-e15602c38098"
      },
      "execution_count": null,
      "outputs": [
        {
          "output_type": "stream",
          "name": "stderr",
          "text": [
            "<ipython-input-34-a0a2655b59d1>:3: FutureWarning: A value is trying to be set on a copy of a DataFrame or Series through chained assignment using an inplace method.\n",
            "The behavior will change in pandas 3.0. This inplace method will never work because the intermediate object on which we are setting values always behaves as a copy.\n",
            "\n",
            "For example, when doing 'df[col].method(value, inplace=True)', try using 'df.method({col: value}, inplace=True)' or df[col] = df[col].method(value) instead, to perform the operation inplace on the original object.\n",
            "\n",
            "\n",
            "  df[column].fillna(df[column].median(), inplace=True)\n"
          ]
        }
      ]
    },
    {
      "cell_type": "markdown",
      "source": [
        "**Step 4: Feature Engineering**"
      ],
      "metadata": {
        "id": "Gth027Lg06Nz"
      }
    },
    {
      "cell_type": "code",
      "source": [
        "# Creating a new feature: Debt-to-Income Ratio\n",
        "df['DebtIncomeRatio'] = df['DebtRatio'] / (df['MonthlyIncome'] + 1)"
      ],
      "metadata": {
        "id": "8quxYZT30-cL"
      },
      "execution_count": null,
      "outputs": []
    },
    {
      "cell_type": "markdown",
      "source": [
        "**Step 5: Pre-processing**"
      ],
      "metadata": {
        "id": "WyrXOWwT1ir3"
      }
    },
    {
      "cell_type": "code",
      "source": [
        "# Splitting dataset into train and test sets\n",
        "X = df.drop(columns=['SeriousDlqin2yrs'])\n",
        "y = df['SeriousDlqin2yrs']\n",
        "X_train, X_test, y_train, y_test = train_test_split(X, y, test_size=0.2, random_state=42)"
      ],
      "metadata": {
        "id": "1-il09Mk1nE7"
      },
      "execution_count": null,
      "outputs": []
    },
    {
      "cell_type": "markdown",
      "source": [
        "**Step 6: Model Selection**\n",
        "\n",
        "*Selecting machine learning algorithms suitable for credit scoring.*"
      ],
      "metadata": {
        "id": "qMi1t2CV19zi"
      }
    },
    {
      "cell_type": "code",
      "source": [
        "# We will consider Logistic Regression, Random Forest, and Gradient Boosting\n",
        "models = {\n",
        "    \"Logistic Regression\": LogisticRegression(),\n",
        "    \"Random Forest\": RandomForestClassifier(),\n",
        "    \"Gradient Boosting\": GradientBoostingClassifier()\n",
        "}"
      ],
      "metadata": {
        "id": "oXoE_eHr2Ube"
      },
      "execution_count": null,
      "outputs": []
    },
    {
      "cell_type": "markdown",
      "source": [
        "**Step 7: Model Training (with Standardization)**"
      ],
      "metadata": {
        "id": "FfDe80rZ2peC"
      }
    },
    {
      "cell_type": "code",
      "source": [
        "# Training models on the training dataset and evaluating their performance\n",
        "scaler = StandardScaler()\n",
        "X_train_scaled = scaler.fit_transform(X_train)\n",
        "X_test_scaled = scaler.transform(X_test)\n",
        "\n",
        "# Training models on the scaled dataset\n",
        "for name, model in models.items():\n",
        "    model.fit(X_train_scaled, y_train)\n",
        "    y_pred = model.predict_proba(X_test_scaled)[:, 1]\n",
        "    auc = roc_auc_score(y_test, y_pred)\n",
        "    print(f\"{name} AUC: {auc:.4f}\")\n"
      ],
      "metadata": {
        "colab": {
          "base_uri": "https://localhost:8080/"
        },
        "id": "83sC0bQw2vOU",
        "outputId": "90a0c77b-6c55-42bc-c2e6-e527e06bf79c"
      },
      "execution_count": null,
      "outputs": [
        {
          "output_type": "stream",
          "name": "stdout",
          "text": [
            "Logistic Regression AUC: 0.6932\n",
            "Random Forest AUC: 0.8426\n",
            "Gradient Boosting AUC: 0.8629\n"
          ]
        }
      ]
    },
    {
      "cell_type": "markdown",
      "source": [
        "**Step 8: Hyperparameter Tuning**"
      ],
      "metadata": {
        "id": "xPr0o94D23NH"
      }
    },
    {
      "cell_type": "code",
      "source": [
        "# Optimizing model hyperparameters to improve performance\n",
        "param_grid = {'n_estimators': [50, 100, 200], 'max_depth': [3, 5, 10]}\n",
        "grid_search = GridSearchCV(GradientBoostingClassifier(), param_grid, scoring='roc_auc', cv=3)\n",
        "grid_search.fit(X_train, y_train)\n",
        "print(\"Best Parameters:\", grid_search.best_params_)"
      ],
      "metadata": {
        "colab": {
          "base_uri": "https://localhost:8080/"
        },
        "id": "G2KiL_Uz27pk",
        "outputId": "000a2d4a-03aa-4f87-d102-0ac758edec9e"
      },
      "execution_count": null,
      "outputs": [
        {
          "output_type": "stream",
          "name": "stdout",
          "text": [
            "Best Parameters: {'max_depth': 3, 'n_estimators': 200}\n"
          ]
        }
      ]
    },
    {
      "cell_type": "markdown",
      "source": [
        "**Step 9: Model Evaluation**"
      ],
      "metadata": {
        "id": "wKx72yVR2_aw"
      }
    },
    {
      "cell_type": "code",
      "source": [
        "# Evaluating the final model using AUC and a classification report\n",
        "y_pred_final = grid_search.best_estimator_.predict_proba(X_test)[:, 1]\n",
        "print(\"Final Model AUC:\", roc_auc_score(y_test, y_pred_final))\n",
        "print(\"Classification Report:\")\n",
        "print(classification_report(y_test, grid_search.best_estimator_.predict(X_test)))"
      ],
      "metadata": {
        "colab": {
          "base_uri": "https://localhost:8080/"
        },
        "id": "3ehxACY83C-c",
        "outputId": "00f5848b-6705-4a4b-b33f-44ed1e336153"
      },
      "execution_count": null,
      "outputs": [
        {
          "output_type": "stream",
          "name": "stdout",
          "text": [
            "Final Model AUC: 0.8635329280251687\n",
            "Classification Report:\n",
            "              precision    recall  f1-score   support\n",
            "\n",
            "           0       0.95      0.99      0.97     28044\n",
            "           1       0.57      0.21      0.30      1956\n",
            "\n",
            "    accuracy                           0.94     30000\n",
            "   macro avg       0.76      0.60      0.63     30000\n",
            "weighted avg       0.92      0.94      0.92     30000\n",
            "\n"
          ]
        }
      ]
    },
    {
      "cell_type": "markdown",
      "source": [
        "**Step 10: Model Interpretation**"
      ],
      "metadata": {
        "id": "RfFIAHdv3HPF"
      }
    },
    {
      "cell_type": "code",
      "source": [
        "# Understanding which features are most predictive of financial distress\n",
        "feature_importance = pd.Series(grid_search.best_estimator_.feature_importances_, index=X.columns).sort_values(ascending=False)\n",
        "plt.figure(figsize=(10,5))\n",
        "sns.barplot(x=feature_importance.values, y=feature_importance.index)\n",
        "plt.title(\"Feature Importance\")\n",
        "plt.show()"
      ],
      "metadata": {
        "colab": {
          "base_uri": "https://localhost:8080/",
          "height": 468
        },
        "id": "KwbpoLGw3ODC",
        "outputId": "21172088-622c-47fe-83ff-c8a62c1824f2"
      },
      "execution_count": null,
      "outputs": [
        {
          "output_type": "display_data",
          "data": {
            "text/plain": [
              "<Figure size 1000x500 with 1 Axes>"
            ],
            "image/png": "[encoded data removed]"
          },
          "metadata": {}
        }
      ]
    },
    {
      "cell_type": "markdown",
      "source": [
        "**Step 11: Deployment**"
      ],
      "metadata": {
        "id": "CvS1klDc3Szm"
      }
    },
    {
      "cell_type": "code",
      "source": [
        "# If the model performs well, save it for deployment\n",
        "import joblib\n",
        "joblib.dump(grid_search.best_estimator_, \"credit_scoring_model.pkl\")"
      ],
      "metadata": {
        "colab": {
          "base_uri": "https://localhost:8080/"
        },
        "id": "28jqP3Vc3Whf",
        "outputId": "c70ab1f8-360d-4d1f-f8b1-4d6d67d9e8f5"
      },
      "execution_count": null,
      "outputs": [
        {
          "output_type": "execute_result",
          "data": {
            "text/plain": [
              "['credit_scoring_model.pkl']"
            ]
          },
          "metadata": {},
          "execution_count": 45
        }
      ]
    },
    {
      "cell_type": "markdown",
      "source": [
        "**Step 12: Documentation and Reporting**\n",
        "\n",
        "**Summarizing findings, methodology, and performance metrics for stakeholders**\n",
        "\n",
        "\n",
        "***Credit Scoring Model Report:***\n",
        "\n",
        "1. Problem Statement: Predict financial distress within the next two years using machine learning.\n",
        "\n",
        "2. Data Exploration: Checked missing values, class distribution, and feature correlations.\n",
        "\n",
        "3. Data Cleaning: Handled missing values with median imputation.\n",
        "\n",
        "4. Feature Engineering: Created Debt-to-Income Ratio to improve model performance.\n",
        "\n",
        "5. Model Selection & Training:\n",
        "   - Tested Logistic Regression, Random Forest, and Gradient Boosting.\n",
        "   - Applied StandardScaler to normalize the data.\n",
        "   - Gradient Boosting performed the best with optimized hyperparameters.\n",
        "\n",
        "6. Model Evaluation: AUC Score used as a key metric for evaluation.\n",
        "\n",
        "7. Model Interpretation: Feature importance analysis showed Debt Ratio as a strong predictor.\n",
        "\n",
        "8. Deployment: The best model is saved as 'credit_scoring_model.pkl' for future use.\n",
        "\n"
      ],
      "metadata": {
        "id": "gP7lRbke3ccr"
      }
    },
    {
      "cell_type": "markdown",
      "source": [
        "**Step 13: Feedback Loop**\n",
        "\n",
        "* Establishing a system where model predictions are continuously monitored and updated based on new data to maintain accuracy and relevance.\n"
      ],
      "metadata": {
        "id": "n9MAGE3Z39SH"
      }
    },
    {
      "cell_type": "code",
      "source": [
        "# Monitoring model performance over time and updating it when necessary\n",
        "def update_model(new_data):\n",
        "    \"\"\"Function to retrain the model with new incoming data\"\"\"\n",
        "    new_X = new_data.drop(columns=['SeriousDlqin2yrs'])\n",
        "    new_y = new_data['SeriousDlqin2yrs']\n",
        "    new_X_scaled = scaler.transform(new_X)\n",
        "    grid_search.best_estimator_.fit(new_X_scaled, new_y)\n",
        "    joblib.dump(grid_search.best_estimator_, \"credit_scoring_model_updated.pkl\")\n",
        "    print(\"Model updated with new data\")\n",
        "\n",
        "# Ready for continuous improvement!"
      ],
      "metadata": {
        "id": "7YlitSCpWPXP"
      },
      "execution_count": null,
      "outputs": []
    },
    {
      "cell_type": "code",
      "source": [
        "# Saving the cleaned dataset as a CSV file\n",
        "cleaned_file_path = \"credit_scoring_model.csv\"  # File name\n",
        "df.to_csv(cleaned_file_path, index=False)  # Save without the index column\n",
        "\n",
        "print(f\"Cleaned dataset saved as: {cleaned_file_path}\")"
      ],
      "metadata": {
        "colab": {
          "base_uri": "https://localhost:8080/"
        },
        "id": "wyBIuHhLbXrt",
        "outputId": "495759d7-0d40-48e9-d2e7-bb0668450f11"
      },
      "execution_count": null,
      "outputs": [
        {
          "output_type": "stream",
          "name": "stdout",
          "text": [
            "Cleaned dataset saved as: credit_scoring_model.csv\n"
          ]
        }
      ]
    },
    {
      "cell_type": "code",
      "source": [
        "from google.colab import files\n",
        "files.download(cleaned_file_path)"
      ],
      "metadata": {
        "colab": {
          "base_uri": "https://localhost:8080/",
          "height": 17
        },
        "id": "jbxPRs3EbaiS",
        "outputId": "0964af4f-5cb5-4bac-ddb6-3bd4446dc094"
      },
      "execution_count": null,
      "outputs": [
        {
          "output_type": "display_data",
          "data": {
            "text/plain": [
              "<IPython.core.display.Javascript object>"
            ],
            "application/javascript": [
              "\n",
              "    async function download(id, filename, size) {\n",
              "      if (!google.colab.kernel.accessAllowed) {\n",
              "        return;\n",
              "      }\n",
              "      const div = document.createElement('div');\n",
              "      const label = document.createElement('label');\n",
              "      label.textContent = `Downloading \"${filename}\": `;\n",
              "      div.appendChild(label);\n",
              "      const progress = document.createElement('progress');\n",
              "      progress.max = size;\n",
              "      div.appendChild(progress);\n",
              "      document.body.appendChild(div);\n",
              "\n",
              "      const buffers = [];\n",
              "      let downloaded = 0;\n",
              "\n",
              "      const channel = await google.colab.kernel.comms.open(id);\n",
              "      // Send a message to notify the kernel that we're ready.\n",
              "      channel.send({})\n",
              "\n",
              "      for await (const message of channel.messages) {\n",
              "        // Send a message to notify the kernel that we're ready.\n",
              "        channel.send({})\n",
              "        if (message.buffers) {\n",
              "          for (const buffer of message.buffers) {\n",
              "            buffers.push(buffer);\n",
              "            downloaded += buffer.byteLength;\n",
              "            progress.value = downloaded;\n",
              "          }\n",
              "        }\n",
              "      }\n",
              "      const blob = new Blob(buffers, {type: 'application/binary'});\n",
              "      const a = document.createElement('a');\n",
              "      a.href = window.URL.createObjectURL(blob);\n",
              "      a.download = filename;\n",
              "      div.appendChild(a);\n",
              "      a.click();\n",
              "      div.remove();\n",
              "    }\n",
              "  "
            ]
          },
          "metadata": {}
        },
        {
          "output_type": "display_data",
          "data": {
            "text/plain": [
              "<IPython.core.display.Javascript object>"
            ],
            "application/javascript": [
              "download(\"download_25c04ece-13ad-40ba-affa-91b3d83af451\", \"credit_scoring_model.csv\", 11329660)"
            ]
          },
          "metadata": {}
        }
      ]
    },
    {
      "cell_type": "markdown",
      "source": [
        "# Interview Readiness"
      ],
      "metadata": {
        "id": "_d7se51MRVF7"
      }
    },
    {
      "cell_type": "markdown",
      "source": [
        "Review the [codes of contributors](https://www.kaggle.com/c/GiveMeSomeCredit/code) to this resource and answer the questions below:\n",
        "\n",
        "0. Choose some notebooks to review and list their links here:\n",
        "\n",
        "1. **Data Understanding and Preparation:**\n",
        "   - Can you describe the steps taken to understand and prepare the \"Give Me Some Credit\" dataset for analysis?\n",
        "   - How did they handle missing or inconsistent data in the dataset?\n",
        "\n",
        "**Answer:** The steps taken to prepare the dataset for analysis—\n",
        "* The dataset was explored using df.info(), df.head(), and df.isnull().sum() to check missing values and understand feature types.\n",
        "* Missing values were handled using median imputation.\n",
        "* A new feature, Debt-to-Income Ratio, was created to improve model performance.\n",
        "\n",
        "\n",
        "2. **Model Selection:**\n",
        "   - Which machine learning models were considered for predicting financial distress, and why?\n",
        "\n",
        "**Answer:** The models considered were—\n",
        "* Logistic Regression (simple, interpretable)\n",
        "* Random Forest (handles non-linearity, robust)\n",
        "* Gradient Boosting (best performance with hyperparameter tuning)\n",
        "\n",
        "3. **Model Evaluation:**\n",
        "   - What evaluation metrics were used to assess the performance of the models, and why were these particular metrics chosen?\n",
        "\n",
        "**Answer:**\n",
        "* AUC (Area Under Curve) was used to measure model performance since it is well-suited for imbalanced datasets.\n",
        "* A classification report was used to check precision, recall, and F1-score.\n",
        "\n",
        "\n",
        "4. **Model Interpretation:**\n",
        "   - How do you interpret the model coefficients or feature importances in the context of this credit scoring task?\n",
        "\n",
        "**Answer:**\n",
        "* Feature importance from the Gradient Boosting model showed that Debt Ratio was a key predictor.\n",
        "* Logistic Regression coefficients helped understand how financial factors impact credit distress.\n",
        "\n",
        "\n",
        "5. **Ethical Considerations:**\n",
        "   - What ethical considerations should be taken into account when developing credit scoring models?\n",
        "   - How can bias be identified and mitigated in machine learning models in finance?\n",
        "\n",
        "**Answer**\n",
        "* Bias Detection: Analyzing feature distributions to ensure fairness.\n",
        "* Mitigation: Regular audits, balanced training data, and explainable AI methods.\n",
        "\n",
        "6.  **Analyze the dataset and carry out EDA & ML.**\n",
        "- Evaluate your results\n",
        "- Upload your submission.csv file to Kaggle's Leaderboard\n",
        "- What is your rank on the leaderboard?\n",
        "\n",
        "**It shows the has competiotion has already ended on Kaggle so can't evaluate on the basis of Kaggle scoreboard.**\n"
      ],
      "metadata": {
        "id": "f1G0-Y4cQIP7"
      }
    }
  ]
}